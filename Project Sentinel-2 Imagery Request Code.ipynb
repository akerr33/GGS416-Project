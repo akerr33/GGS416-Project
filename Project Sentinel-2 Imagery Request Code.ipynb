{
 "cells": [
  {
   "cell_type": "code",
   "execution_count": 9,
   "id": "35157824",
   "metadata": {},
   "outputs": [],
   "source": [
    "# Sentinel API code. Import and install sentinelsat package if not already\n",
    "# import sys\n",
    "# !{sys.executable} -m pip install sentinelsat\n",
    "# Then import required packages\n",
    "# SentinelAPI - Class to connect to Copernicus Open Access Hub, search and download imagery.\n",
    "# read_geojson - Import a geojson file for use.\n",
    "# geojson_to_wkt - Convert a GeoJSON object to Well-Known Text. \n",
    "    # Intended for use with OpenSearch queries. 3D points are converted to 2D.\n",
    "import sentinelsat\n",
    "from sentinelsat import SentinelAPI, read_geojson, geojson_to_wkt\n",
    "from datetime import date"
   ]
  },
  {
   "cell_type": "code",
   "execution_count": 10,
   "id": "3ed64c48",
   "metadata": {},
   "outputs": [
    {
     "data": {
      "text/plain": [
       "<sentinelsat.sentinel.SentinelAPI at 0x1deca0ead30>"
      ]
     },
     "execution_count": 10,
     "metadata": {},
     "output_type": "execute_result"
    }
   ],
   "source": [
    "# Create API object with username/password\n",
    "api = SentinelAPI(\n",
    "    'akerr8', \n",
    "    'Uncanny1@1', \n",
    "    'https://apihub.copernicus.eu/apihub'\n",
    ")\n",
    "api"
   ]
  },
  {
   "cell_type": "code",
   "execution_count": 11,
   "id": "6dd2f845",
   "metadata": {},
   "outputs": [
    {
     "data": {
      "text/plain": [
       "'POINT(67.9944 27.5964)'"
      ]
     },
     "execution_count": 11,
     "metadata": {},
     "output_type": "execute_result"
    }
   ],
   "source": [
    "# Create geojson\n",
    "my_geojson = {\n",
    "  \"type\": \"Feature\", # define GeoJSON type. As it's a single geometry, it's just a single 'Feature'\n",
    "  \"geometry\": {\n",
    "\t\"type\": \"Point\", # define the geometry type, which is a point\n",
    "\t\"coordinates\": [ # Here are the actual geometry coordinates\n",
    "\t\t  67.99441034239601,\n",
    "\t\t  27.596445925557646\n",
    "\t\t],\n",
    "  },\n",
    "    \"properties\": {'id': 'WHF'}, # Geometry ID\n",
    "}\n",
    "my_geojson\n",
    "footprint = geojson_to_wkt(my_geojson) # Convert Well Known Text (WKT) format\n",
    "footprint"
   ]
  },
  {
   "cell_type": "code",
   "execution_count": 15,
   "id": "aef3c551",
   "metadata": {},
   "outputs": [
    {
     "data": {
      "application/vnd.jupyter.widget-view+json": {
       "model_id": "0a1443eeb2474d6d9e04750727ccfaa0",
       "version_major": 2,
       "version_minor": 0
      },
      "text/plain": [
       "Querying products:  52%|#####2    | 100/192 [00:00<?, ?product/s]"
      ]
     },
     "metadata": {},
     "output_type": "display_data"
    },
    {
     "data": {
      "text/plain": [
       "192"
      ]
     },
     "execution_count": 15,
     "metadata": {},
     "output_type": "execute_result"
    }
   ],
   "source": [
    "# Set API query by point, time, and SciHub query keywords\n",
    "image_metadata = api.query(\n",
    "    footprint,\n",
    "    date=('20220601', '20220930'), # set dates(2015, 12, 29)\n",
    "    platformname='Sentinel-2'                    \n",
    ")\n",
    "image_metadata\n",
    "len(image_metadata) # how many images"
   ]
  },
  {
   "cell_type": "code",
   "execution_count": 13,
   "id": "a9f63922",
   "metadata": {},
   "outputs": [],
   "source": [
    "# Save to a dataframe\n",
    "import pandas as pd\n",
    "image_metadata_df = api.to_dataframe(image_metadata)\n",
    "image_metadata_df.to_csv('metadata.csv')"
   ]
  },
  {
   "cell_type": "code",
   "execution_count": 14,
   "id": "10243787",
   "metadata": {},
   "outputs": [],
   "source": [
    "# sort data based on the cloud cover of each image, and the date the image was ingested\n",
    "image_metadata_df_sorted = image_metadata_df.sort_values(\n",
    "    ['cloudcoverpercentage'], ascending=[True])\n",
    "image_metadata_df_sorted.to_csv('metadata_sorted.csv')"
   ]
  },
  {
   "cell_type": "code",
   "execution_count": 27,
   "id": "52f1a186",
   "metadata": {},
   "outputs": [
    {
     "data": {
      "text/plain": [
       "1"
      ]
     },
     "execution_count": 27,
     "metadata": {},
     "output_type": "execute_result"
    }
   ],
   "source": [
    "#subset using .head function\n",
    "image_metadata_df_sorted = image_metadata_df_sorted.head(1)\n",
    "len(image_metadata_df_sorted)"
   ]
  },
  {
   "cell_type": "code",
   "execution_count": 28,
   "id": "d0171d33",
   "metadata": {
    "scrolled": true
   },
   "outputs": [
    {
     "data": {
      "application/vnd.jupyter.widget-view+json": {
       "model_id": "fc949d3a3f7e41a19cd7152cd2ddb969",
       "version_major": 2,
       "version_minor": 0
      },
      "text/plain": [
       "Downloading products:   0%|          | 0/1 [00:00<?, ?product/s]"
      ]
     },
     "metadata": {},
     "output_type": "display_data"
    },
    {
     "data": {
      "application/vnd.jupyter.widget-view+json": {
       "model_id": "cc12233ed23f4778859e3629cf0da0ea",
       "version_major": 2,
       "version_minor": 0
      },
      "text/plain": [
       "Downloading S2A_MSIL1C_20221007T155141_N0400_R054_T18TWL_20221007T205840.zip:   0%|          | 0.00/829M [00:0…"
      ]
     },
     "metadata": {},
     "output_type": "display_data"
    },
    {
     "data": {
      "application/vnd.jupyter.widget-view+json": {
       "model_id": "",
       "version_major": 2,
       "version_minor": 0
      },
      "text/plain": [
       "MD5 checksumming:   0%|          | 0.00/829M [00:00<?, ?B/s]"
      ]
     },
     "metadata": {},
     "output_type": "display_data"
    },
    {
     "data": {
      "text/plain": [
       "ResultTuple(downloaded={'8469a990-1a8a-4bb6-b99a-1591c641f2fa': {'id': '8469a990-1a8a-4bb6-b99a-1591c641f2fa', 'title': 'S2A_MSIL1C_20221007T155141_N0400_R054_T18TWL_20221007T205840', 'size': 828868922, 'md5': '0adfcf38402471f70d3b0a0c633661fc', 'date': datetime.datetime(2022, 10, 7, 15, 51, 41, 24000), 'footprint': 'POLYGON((-73.69681 40.886514353249446,-73.70148 40.87369590327607,-73.755035 40.72744370814638,-73.808105 40.58107975911195,-73.81711 40.556111425058205,-75.000244 40.56274991351036,-75.000244 41.551844670066835,-73.68381 41.54431153543986,-73.69681 40.886514353249446))', 'url': \"https://apihub.copernicus.eu/apihub/odata/v1/Products('8469a990-1a8a-4bb6-b99a-1591c641f2fa')/$value\", 'Online': True, 'Creation Date': datetime.datetime(2022, 10, 7, 23, 29, 0, 801000), 'Ingestion Date': datetime.datetime(2022, 10, 7, 23, 28, 0, 611000), 'quicklook_url': \"https://apihub.copernicus.eu/apihub/odata/v1/Products('8469a990-1a8a-4bb6-b99a-1591c641f2fa')/Products('Quicklook')/$value\", 'path': 'S2A_MSIL1C_20221007T155141_N0400_R054_T18TWL_20221007T205840.zip', 'downloaded_bytes': 828868922}}, retrieval_triggered={}, failed={})"
      ]
     },
     "execution_count": 28,
     "metadata": {},
     "output_type": "execute_result"
    }
   ],
   "source": [
    "api.download_all(image_metadata_df_sorted.index) # download the image"
   ]
  },
  {
   "cell_type": "code",
   "execution_count": null,
   "id": "28c81f30",
   "metadata": {},
   "outputs": [],
   "source": []
  }
 ],
 "metadata": {
  "kernelspec": {
   "display_name": "Python 3 (ipykernel)",
   "language": "python",
   "name": "python3"
  },
  "language_info": {
   "codemirror_mode": {
    "name": "ipython",
    "version": 3
   },
   "file_extension": ".py",
   "mimetype": "text/x-python",
   "name": "python",
   "nbconvert_exporter": "python",
   "pygments_lexer": "ipython3",
   "version": "3.9.13"
  }
 },
 "nbformat": 4,
 "nbformat_minor": 5
}
